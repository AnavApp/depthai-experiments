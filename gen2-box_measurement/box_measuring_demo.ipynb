{
 "cells": [
  {
   "cell_type": "markdown",
   "metadata": {},
   "source": [
    "# Box measurements demo\n",
    "\n",
    "## Idea\n",
    "  * Find a ground plane, find a plane for the top of the box\n",
    "  * Find a minimum rectangle for the top side (and four points)\n",
    "  * Find the bottom four corners of the box (located on the ground plane).\n",
    "\n",
    "## What is needed for a bare minimum working demo:\n",
    " * Crop only for the ROI *DONE*\n",
    " * Detect the ground plane, either using calibration (detect the background without the box) or if\n",
    "the box is small enough, do the fit using the box. *DONE*\n",
    "\n",
    " * Find a rotation matrix to align the ground plane with the coordinate system. *DONE*\n",
    "\n",
    " * Find points not on the plane and perform clustering, in good conditions, the biggest cluster should be the box. *DONE*\n",
    "\n",
    " * Order the points by the distance to the ground plane *DONE*\n",
    "\n",
    " * Take the 0.90% of the point furthest away from the plane *DONE*\n",
    "\n",
    " * Make a new plane parallel to the ground plane *NOT NEEDED*\n",
    "\n",
    " * Do a projection of the points that are in the +- x% of the new plane on the new plane\n",
    "\n",
    " * Find a bounding box around the projected points**\n",
    "\n",
    " * Get the 4 coordinates of the bounding box\n",
    "\n",
    " * Get the 4 coordinates on the ground plane by projection\n",
    "\n",
    " * By here the demo should be able to measure the box dimensions\n",
    "\n",
    "\n",
    "## What else is needed for the full demo:\n",
    " * Figure out an reverse transformation to the RGB image to draw the box on the image\n",
    " * Gather more than one point cloud and (average/combine) them.\n",
    " * Create a calibration setup\n",
    "\n",
    "## Helper funtions:\n",
    " * A function that creates a point cloud for a plane in a given volume would be handy for visualisation."
   ]
  },
  {
   "cell_type": "code",
   "execution_count": 1,
   "metadata": {},
   "outputs": [
    {
     "name": "stdout",
     "output_type": "stream",
     "text": [
      "Jupyter environment detected. Enabling Open3D WebVisualizer.\n",
      "[Open3D INFO] WebRTC GUI backend enabled.\n",
      "[Open3D INFO] WebRTCWindowSystem: HTTP handshake server disabled.\n"
     ]
    }
   ],
   "source": [
    "# Imports and constants\n",
    "\n",
    "import open3d as o3d\n",
    "import numpy as np\n",
    "import matplotlib.pyplot as plt\n",
    "import copy\n",
    "import cv2\n",
    "\n",
    "PATH = './example_pcls/example_5.ply'"
   ]
  },
  {
   "cell_type": "code",
   "execution_count": 2,
   "metadata": {},
   "outputs": [],
   "source": [
    "# Read the pointcloud\n",
    "raw_pcl = o3d.io.read_point_cloud(PATH)"
   ]
  },
  {
   "cell_type": "markdown",
   "metadata": {},
   "source": [
    "### Crop the ROI\n",
    "----"
   ]
  },
  {
   "cell_type": "code",
   "execution_count": 3,
   "metadata": {},
   "outputs": [],
   "source": [
    "# Show the pointcloud\n",
    "o3d.visualization.draw_geometries([raw_pcl])"
   ]
  },
  {
   "cell_type": "code",
   "execution_count": 4,
   "metadata": {},
   "outputs": [],
   "source": [
    "# Crop only for the ROI\n",
    "\n",
    "raw_pcl_np = np.asarray(raw_pcl.points)\n",
    "\n",
    "# Calculate point distances\n",
    "pcl_dist = np.sqrt(np.sum(np.square(raw_pcl_np), axis=1))"
   ]
  },
  {
   "cell_type": "code",
   "execution_count": 5,
   "metadata": {},
   "outputs": [
    {
     "data": {
      "image/png": "[encoded data removed]",
      "text/plain": [
       "<Figure size 432x288 with 1 Axes>"
      ]
     },
     "metadata": {
      "needs_background": "light"
     },
     "output_type": "display_data"
    }
   ],
   "source": [
    "# Plot a histogram of distances\n",
    "plt.hist(pcl_dist)\n",
    "plt.show()"
   ]
  },
  {
   "cell_type": "code",
   "execution_count": 6,
   "metadata": {},
   "outputs": [],
   "source": [
    "# Only take points less than 1 meter away\n",
    "indices = np.nonzero(pcl_dist < 1.5)[0]\n",
    "roi_pcl = raw_pcl.select_by_index(indices)\n",
    "\n",
    "o3d.visualization.draw_geometries([roi_pcl])"
   ]
  },
  {
   "cell_type": "markdown",
   "metadata": {},
   "source": [
    "### Detect the ground plane\n",
    "------"
   ]
  },
  {
   "cell_type": "code",
   "execution_count": 7,
   "metadata": {},
   "outputs": [],
   "source": [
    "# Get the ground plane\n",
    "plane_eq, plane_inliers = roi_pcl.segment_plane(0.02, 3, 3000)\n",
    "\n",
    "\n",
    "# Draw the datapoints in the plane\n",
    "plane_raw = roi_pcl.select_by_index(plane_inliers)\n",
    "o3d.visualization.draw_geometries([plane_raw])\n",
    "\n",
    "# Draw the outliers\n",
    "plane_outliers = roi_pcl.select_by_index(plane_inliers, invert=True)\n",
    "o3d.visualization.draw_geometries([plane_outliers])\n",
    "# TODO, draw a plane, to compare visually how this works\n",
    "\n"
   ]
  },
  {
   "cell_type": "markdown",
   "metadata": {},
   "source": [
    "### Find the box"
   ]
  },
  {
   "cell_type": "code",
   "execution_count": 8,
   "metadata": {},
   "outputs": [
    {
     "name": "stdout",
     "output_type": "stream",
     "text": [
      "[Open3D DEBUG] Precompute neighbors.\n",
      "[Open3D DEBUG] Done Precompute neighbors.\n",
      "[Open3D DEBUG] Compute Clusters\n",
      "[Open3D DEBUG] Done Compute Clusters: 6\n",
      "point cloud has 6 clusters\n"
     ]
    }
   ],
   "source": [
    "# Cluster the outliers, the biggest in good conditions should be the box\n",
    "with o3d.utility.VerbosityContextManager(\n",
    "    o3d.utility.VerbosityLevel.Debug) as cm:\n",
    "    labels = np.array(plane_outliers.cluster_dbscan(eps=0.02, min_points=10))\n",
    "    \n",
    "\n",
    "max_label = labels.max()\n",
    "print(f\"point cloud has {max_label + 1} clusters\")\n",
    "colors = plt.get_cmap(\"tab20\")(labels / (max_label if max_label > 0 else 1))\n",
    "colors[labels < 0] = 0\n",
    "plane_outliers.colors = o3d.utility.Vector3dVector(colors[:, :3])\n",
    "o3d.visualization.draw_geometries([plane_outliers])"
   ]
  },
  {
   "cell_type": "code",
   "execution_count": 9,
   "metadata": {},
   "outputs": [],
   "source": [
    "# Visualize the biggest cluster (hopefully the box)\n",
    "labels_short = labels[labels != -1]\n",
    "y = np.bincount(labels_short).argmax()\n",
    "box_indices = np.where(labels == y)[0]\n",
    "box = plane_outliers.select_by_index(box_indices)\n",
    "o3d.visualization.draw_geometries([box])"
   ]
  },
  {
   "cell_type": "markdown",
   "metadata": {},
   "source": [
    "### Helper functions"
   ]
  },
  {
   "cell_type": "code",
   "execution_count": 10,
   "metadata": {},
   "outputs": [],
   "source": [
    "# Useful for debugging (see what RANSAC is finding visually)\n",
    "\n",
    "def create_pointcloud_plane(plane_params, x_range, y_range, step):\n",
    "    \"\"\"\n",
    "    Create a pointcloud from the plane parameters and ranges\n",
    "         Parameters:\n",
    "         --------------\n",
    "         plane_params -> list() 4x1\n",
    "         x, y ,z range -> list 2x1 ([min, max])\n",
    "\n",
    "         Returns:\n",
    "         point_cloud\n",
    "    \n",
    "    \"\"\"\n",
    "    pcl = o3d.geometry.PointCloud()\n",
    "    a, b, c, d = plane_params\n",
    "    x_start, x_stop = x_range\n",
    "    y_start, y_stop = y_range\n",
    "    num_points_x = int((x_stop - x_start) / step) + 1\n",
    "    num_points_y = int((y_stop - y_start) / step) + 1\n",
    "    x_points = np.linspace(x_start, x_stop, num_points_x)\n",
    "    y_points = np.linspace(y_start, y_stop, num_points_y)\n",
    "    num_points = len(x_points) * len(y_points)\n",
    "    pcl_np = np.ones((num_points, 3))\n",
    "    i = 0\n",
    "    for x in x_points:\n",
    "        for y in y_points:\n",
    "            z = (d - a * x - b * y) / c\n",
    "            pcl_np[i] = np.array([x, y, z])\n",
    "            i += 1\n",
    "\n",
    "\n",
    "\n",
    "    pcl.points = o3d.utility.Vector3dVector(pcl_np)\n",
    "\n",
    "    return pcl\n",
    "\n"
   ]
  },
  {
   "cell_type": "code",
   "execution_count": 11,
   "metadata": {},
   "outputs": [],
   "source": [
    "# pointcloud = create_pointcloud_plane([0, 0, 1, -1], [0,2], [-2,2], 0.02)\n",
    "\n",
    "# coord = o3d.geometry.TriangleMesh.create_coordinate_frame()\n",
    "# pointcloud.paint_uniform_color([0,255,0])\n",
    "# o3d.visualization.draw_geometries([pointcloud, coord])"
   ]
  },
  {
   "cell_type": "markdown",
   "metadata": {},
   "source": [
    "# Rotate and translate the ground plane\n",
    "Rotate the ground plane along the x or y axis so the normal vector\n",
    "of the ground plane is only positive in the z direction.\n",
    "The translate the ground plane to have zero distance with the origin."
   ]
  },
  {
   "cell_type": "code",
   "execution_count": 12,
   "metadata": {},
   "outputs": [],
   "source": [
    "# Calculate the rotation matrix\n",
    "\n",
    "def rotate_vector(vec_in, vec_target):\n",
    "    # Create a rotation matrix that rotates vec_in to vec_target\n",
    "    # https://math.stackexchange.com/questions/180418/calculate-rotation-matrix-to-align-vector-a-to-vector-b-in-3d\n",
    "    v = np.cross(vec_in, vec_target)\n",
    "    s = np.linalg.norm(v)\n",
    "    c = np.matmul(vec_in, vec_target)\n",
    "    v_mat = np.array([[0    ,-v[2], v[1] ],\n",
    "                      [v[2] , 0   , -v[0]],\n",
    "                      [-v[1], v[0], 0    ]])\n",
    "    R = np.identity(3) + v_mat + (np.matmul(v_mat, v_mat) * (1 / (1+c)))\n",
    "    return R\n",
    "\n",
    "\n"
   ]
  },
  {
   "cell_type": "code",
   "execution_count": 13,
   "metadata": {},
   "outputs": [],
   "source": [
    "norm_vector = plane_eq[0:3]\n",
    "wanted_norm_vector = np.array([0, 0, 1])\n",
    "rot_matrix = rotate_vector(norm_vector, wanted_norm_vector)\n",
    "\n",
    "# Create visible coordinates\n",
    "coord = o3d.geometry.TriangleMesh.create_coordinate_frame(size=.1)\n",
    "rotated_plane = copy.deepcopy(plane_raw)\n",
    "rotated_plane = rotated_plane.rotate(rot_matrix, center=(0,0,0))\n",
    "o3d.visualization.draw_geometries([coord, rotated_plane])\n",
    "\n",
    "\n",
    "avg_z = np.average(np.asarray(rotated_plane.points)[:, 2])\n",
    "translated_plane = rotated_plane.translate([0, 0, - avg_z])\n",
    "o3d.visualization.draw_geometries([coord, rotated_plane])\n",
    "\n",
    "\n",
    "\n"
   ]
  },
  {
   "cell_type": "code",
   "execution_count": 14,
   "metadata": {},
   "outputs": [
    {
     "data": {
      "text/plain": [
       "array([-6.11554481e-19, -2.54966382e-17,  1.00000000e+00])"
      ]
     },
     "execution_count": 14,
     "metadata": {},
     "output_type": "execute_result"
    }
   ],
   "source": [
    "# Check that the normal vector really is pointing up\n",
    "np.matmul(rot_matrix , norm_vector)"
   ]
  },
  {
   "cell_type": "code",
   "execution_count": 15,
   "metadata": {},
   "outputs": [
    {
     "data": {
      "image/png": "[encoded data removed]",
      "text/plain": [
       "<Figure size 432x288 with 1 Axes>"
      ]
     },
     "metadata": {
      "needs_background": "light"
     },
     "output_type": "display_data"
    }
   ],
   "source": [
    "# Draw all z values\n",
    "points = np.asarray(rotated_plane.points)\n",
    "plt.plot(points[:,2])\n",
    "plt.show()"
   ]
  },
  {
   "cell_type": "code",
   "execution_count": 16,
   "metadata": {},
   "outputs": [
    {
     "data": {
      "text/plain": [
       "[<matplotlib.lines.Line2D at 0x7fe42473ddf0>]"
      ]
     },
     "execution_count": 16,
     "metadata": {},
     "output_type": "execute_result"
    },
    {
     "data": {
      "image/png": "[encoded data removed]",
      "text/plain": [
       "<Figure size 432x288 with 1 Axes>"
      ]
     },
     "metadata": {
      "needs_background": "light"
     },
     "output_type": "display_data"
    }
   ],
   "source": [
    "plt.plot(points[:,0])"
   ]
  },
  {
   "cell_type": "markdown",
   "metadata": {},
   "source": [
    "### Order the points and take the ones furthest away from the plane"
   ]
  },
  {
   "cell_type": "code",
   "execution_count": 17,
   "metadata": {},
   "outputs": [],
   "source": [
    "# Rotate and translate also the box\n",
    "\n",
    "rotated_box = copy.deepcopy(box)\n",
    "rotated_box = rotated_box.rotate(rot_matrix, center=(0,0,0))\n",
    "translated_box = rotated_box.translate([0, 0, - avg_z])\n",
    "o3d.visualization.draw_geometries([coord, translated_box, translated_plane])"
   ]
  },
  {
   "cell_type": "code",
   "execution_count": 18,
   "metadata": {},
   "outputs": [
    {
     "data": {
      "image/png": "[encoded data removed]",
      "text/plain": [
       "<Figure size 432x288 with 1 Axes>"
      ]
     },
     "metadata": {
      "needs_background": "light"
     },
     "output_type": "display_data"
    }
   ],
   "source": [
    "points_np = np.asarray(translated_box.points)\n",
    "zs = points_np[:, 2]\n",
    "sorted_zs = np.sort(zs)\n",
    "plt.plot(sorted_zs)\n",
    "percentile90 = np.percentile(sorted_zs, 90)\n",
    "height = percentile90\n",
    "\n",
    "upper_plane_points_indices = np.nonzero(zs > 0.8 * height)[0]\n",
    "upper_plane = translated_box.select_by_index(upper_plane_points_indices)\n",
    "o3d.visualization.draw_geometries([translated_plane, upper_plane]) "
   ]
  },
  {
   "cell_type": "markdown",
   "metadata": {},
   "source": [
    "### Bounding box on the 2D points\n",
    "rect = cv2.minAreaRect(points)\n",
    "points = cv2.boxPoints(rect)\n",
    "bottom_points = points, just reducted z by the distance between the planes\n"
   ]
  },
  {
   "cell_type": "markdown",
   "metadata": {},
   "source": [
    "---"
   ]
  },
  {
   "cell_type": "code",
   "execution_count": 19,
   "metadata": {},
   "outputs": [],
   "source": [
    "upper_plane_points = np.asarray(upper_plane.points)\n",
    "coordinates = np.c_[upper_plane_points[:, 0], upper_plane_points[:, 1]].astype('float32')\n",
    "rect = cv2.minAreaRect(coordinates)\n",
    "bounding_box = cv2.boxPoints(rect)"
   ]
  },
  {
   "cell_type": "markdown",
   "metadata": {},
   "source": [
    "### Visualise the box borders"
   ]
  },
  {
   "cell_type": "code",
   "execution_count": 20,
   "metadata": {},
   "outputs": [],
   "source": [
    "points_floor = np.c_[bounding_box, np.zeros(4)]\n",
    "points_top = np.c_[bounding_box, height * np.ones(4)]\n",
    "box_points = np.concatenate((points_top, points_floor))\n",
    "\n",
    "\n",
    "rotated_whole_pcl = copy.deepcopy(raw_pcl)\n",
    "rotated_whole_pcl = rotated_whole_pcl.rotate(rot_matrix, center=(0,0,0))\n",
    "translated_whole_pcl = rotated_whole_pcl.translate([0, 0, -avg_z])\n",
    "\n",
    "\n",
    "lines = [\n",
    "    [0, 4],\n",
    "    [1, 5],\n",
    "    [2, 6],\n",
    "    [3, 7],\n",
    "    [0,1],\n",
    "    [1,2],\n",
    "    [2,3],\n",
    "    [3,0],\n",
    "    [4,5],\n",
    "    [5,6],\n",
    "    [6,7],\n",
    "    [7,4],\n",
    "]\n",
    "\n",
    "line_set = o3d.geometry.LineSet(\n",
    "    points = o3d.utility.Vector3dVector(box_points),\n",
    "    lines = o3d.utility.Vector2iVector(lines),\n",
    ")\n",
    "\n",
    "colors = [[1,0,0] for i in range(len(lines))]\n",
    "line_set.colors = o3d.utility.Vector3dVector(colors)\n",
    "\n",
    "o3d.visualization.draw_geometries([line_set, translated_whole_pcl])"
   ]
  },
  {
   "cell_type": "code",
   "execution_count": 21,
   "metadata": {},
   "outputs": [],
   "source": [
    "width, length, height = rect[1][0], rect[1][1], height"
   ]
  },
  {
   "cell_type": "code",
   "execution_count": 22,
   "metadata": {},
   "outputs": [
    {
     "data": {
      "text/plain": [
       "(0.41564974188804626, 0.6683312654495239, 0.20223917558952223)"
      ]
     },
     "execution_count": 22,
     "metadata": {},
     "output_type": "execute_result"
    }
   ],
   "source": [
    "width, length, height"
   ]
  },
  {
   "cell_type": "code",
   "execution_count": null,
   "metadata": {},
   "outputs": [],
   "source": []
  }
 ],
 "metadata": {
  "kernelspec": {
   "display_name": "Python 3.8.10 ('env': venv)",
   "language": "python",
   "name": "python3"
  },
  "language_info": {
   "codemirror_mode": {
    "name": "ipython",
    "version": 3
   },
   "file_extension": ".py",
   "mimetype": "text/x-python",
   "name": "python",
   "nbconvert_exporter": "python",
   "pygments_lexer": "ipython3",
   "version": "3.8.10"
  },
  "orig_nbformat": 4,
  "vscode": {
   "interpreter": {
    "hash": "f064b737d0d9c30d7d168dedf16d9830d135054192a9473397470c5132fa4362"
   }
  }
 },
 "nbformat": 4,
 "nbformat_minor": 2
}
